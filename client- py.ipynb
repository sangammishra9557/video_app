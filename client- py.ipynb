{
 "cells": [
  {
   "cell_type": "code",
   "execution_count": null,
   "id": "63750c0d",
   "metadata": {},
   "outputs": [],
   "source": [
    "import os , cv2 ,socket\n",
    "import numpy as np\n",
    "cap = cv2.VideoCapture(0)"
   ]
  },
  {
   "cell_type": "code",
   "execution_count": null,
   "id": "e2b9e680",
   "metadata": {},
   "outputs": [],
   "source": [
    "s=socket.socket(socket.AF_INET, socket.SOCK_STREAM)"
   ]
  },
  {
   "cell_type": "code",
   "execution_count": null,
   "id": "a25fe89a",
   "metadata": {},
   "outputs": [],
   "source": [
    "ip =\"192.168.0.104\"\n",
    "port =8668"
   ]
  },
  {
   "cell_type": "code",
   "execution_count": null,
   "id": "0c84a730",
   "metadata": {},
   "outputs": [],
   "source": [
    "s.connect((ip,port))"
   ]
  },
  {
   "cell_type": "code",
   "execution_count": null,
   "id": "b6e1eff7",
   "metadata": {},
   "outputs": [],
   "source": [
    "while True:\n",
    "    ret,photo= cap.read()\n",
    "    photo_data=cv2.imencode('.jpg',photo)[1].tobytes()\n",
    "    s.sendall(photo_data)\n",
    "    data= s.recv(1024)\n",
    "    array= np.frombuffer(data,np.uint8)\n",
    "    photo=cv2.imdecode(array,cv2.IMREAD_COLOR)\n",
    "    if type(photo) is type(None):\n",
    "        pass\n",
    "    else:\n",
    "        cv2.imshow(\"from the client\",photo)\n",
    "        if (cv2.waitKey(10))==13:\n",
    "            break\n",
    "cv2.destroyAllWindows\n",
    "cap.release()"
   ]
  },
  {
   "cell_type": "code",
   "execution_count": null,
   "id": "db8200af",
   "metadata": {},
   "outputs": [],
   "source": []
  },
  {
   "cell_type": "code",
   "execution_count": 1,
   "id": "e1a68731",
   "metadata": {},
   "outputs": [
    {
     "ename": "NameError",
     "evalue": "name 'cap' is not defined",
     "output_type": "error",
     "traceback": [
      "\u001b[1;31m---------------------------------------------------------------------------\u001b[0m",
      "\u001b[1;31mNameError\u001b[0m                                 Traceback (most recent call last)",
      "\u001b[1;32m<ipython-input-1-e0a928c10214>\u001b[0m in \u001b[0;36m<module>\u001b[1;34m\u001b[0m\n\u001b[1;32m----> 1\u001b[1;33m \u001b[0mcap\u001b[0m\u001b[1;33m.\u001b[0m\u001b[0mrelease\u001b[0m\u001b[1;33m(\u001b[0m\u001b[1;33m)\u001b[0m\u001b[1;33m\u001b[0m\u001b[1;33m\u001b[0m\u001b[0m\n\u001b[0m",
      "\u001b[1;31mNameError\u001b[0m: name 'cap' is not defined"
     ]
    }
   ],
   "source": [
    "cap.release()"
   ]
  },
  {
   "cell_type": "code",
   "execution_count": null,
   "id": "082dd9ca",
   "metadata": {},
   "outputs": [],
   "source": []
  }
 ],
 "metadata": {
  "kernelspec": {
   "display_name": "Python 3",
   "language": "python",
   "name": "python3"
  },
  "language_info": {
   "codemirror_mode": {
    "name": "ipython",
    "version": 3
   },
   "file_extension": ".py",
   "mimetype": "text/x-python",
   "name": "python",
   "nbconvert_exporter": "python",
   "pygments_lexer": "ipython3",
   "version": "3.8.8"
  }
 },
 "nbformat": 4,
 "nbformat_minor": 5
}
