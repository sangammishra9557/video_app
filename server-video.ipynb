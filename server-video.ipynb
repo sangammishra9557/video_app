{
 "cells": [
  {
   "cell_type": "code",
   "execution_count": 1,
   "id": "cdc9170c",
   "metadata": {},
   "outputs": [],
   "source": [
    "import os, cv2,socket\n",
    "import numpy as np"
   ]
  },
  {
   "cell_type": "code",
   "execution_count": 2,
   "id": "b16d19c3",
   "metadata": {},
   "outputs": [],
   "source": [
    "cap= cv2.VideoCapture(1)"
   ]
  },
  {
   "cell_type": "code",
   "execution_count": 3,
   "id": "70e21d55",
   "metadata": {},
   "outputs": [],
   "source": [
    "# now we have to create the socket using the socket modeule\n",
    "s= socket.socket(socket.AF_INET,socket.SOCK_STREAM)"
   ]
  },
  {
   "cell_type": "code",
   "execution_count": 4,
   "id": "572b55dd",
   "metadata": {},
   "outputs": [],
   "source": [
    "ip=\"192.168.0.104\"\n",
    "port =8668"
   ]
  },
  {
   "cell_type": "code",
   "execution_count": 5,
   "id": "1777f32d",
   "metadata": {},
   "outputs": [],
   "source": [
    "# now bind the socket \n",
    "s.bind((ip,port))"
   ]
  },
  {
   "cell_type": "code",
   "execution_count": 6,
   "id": "dd00fca1",
   "metadata": {},
   "outputs": [],
   "source": [
    "#listening the socket\n",
    "s.listen(5)\n",
    "conn, address= s.accept()\n"
   ]
  },
  {
   "cell_type": "code",
   "execution_count": 7,
   "id": "69b0e1cf",
   "metadata": {},
   "outputs": [
    {
     "ename": "ConnectionResetError",
     "evalue": "[WinError 10054] An existing connection was forcibly closed by the remote host",
     "output_type": "error",
     "traceback": [
      "\u001b[1;31m---------------------------------------------------------------------------\u001b[0m",
      "\u001b[1;31mConnectionResetError\u001b[0m                      Traceback (most recent call last)",
      "\u001b[1;32m<ipython-input-7-c177d51ac117>\u001b[0m in \u001b[0;36m<module>\u001b[1;34m\u001b[0m\n\u001b[0;32m     11\u001b[0m        \u001b[0mret\u001b[0m\u001b[1;33m,\u001b[0m\u001b[0mphoto\u001b[0m\u001b[1;33m=\u001b[0m \u001b[0mcap\u001b[0m\u001b[1;33m.\u001b[0m\u001b[0mread\u001b[0m\u001b[1;33m(\u001b[0m\u001b[1;33m)\u001b[0m\u001b[1;33m\u001b[0m\u001b[1;33m\u001b[0m\u001b[0m\n\u001b[0;32m     12\u001b[0m        \u001b[0mphoto_data\u001b[0m \u001b[1;33m=\u001b[0m \u001b[0mcv2\u001b[0m\u001b[1;33m.\u001b[0m\u001b[0mimencode\u001b[0m\u001b[1;33m(\u001b[0m\u001b[1;34m'.jpg'\u001b[0m\u001b[1;33m,\u001b[0m\u001b[0mphoto\u001b[0m\u001b[1;33m)\u001b[0m\u001b[1;33m[\u001b[0m\u001b[1;36m1\u001b[0m\u001b[1;33m]\u001b[0m\u001b[1;33m.\u001b[0m\u001b[0mtobytes\u001b[0m\u001b[1;33m(\u001b[0m\u001b[1;33m)\u001b[0m\u001b[1;33m\u001b[0m\u001b[1;33m\u001b[0m\u001b[0m\n\u001b[1;32m---> 13\u001b[1;33m        \u001b[0mconn\u001b[0m\u001b[1;33m.\u001b[0m\u001b[0msendall\u001b[0m\u001b[1;33m(\u001b[0m\u001b[0mphoto_data\u001b[0m\u001b[1;33m)\u001b[0m\u001b[1;33m\u001b[0m\u001b[1;33m\u001b[0m\u001b[0m\n\u001b[0m\u001b[0;32m     14\u001b[0m \u001b[0mcv2\u001b[0m\u001b[1;33m.\u001b[0m\u001b[0mdestroyAllWindows\u001b[0m\u001b[1;33m(\u001b[0m\u001b[1;33m)\u001b[0m\u001b[1;33m\u001b[0m\u001b[1;33m\u001b[0m\u001b[0m\n\u001b[0;32m     15\u001b[0m \u001b[0mcap\u001b[0m\u001b[1;33m.\u001b[0m\u001b[0mrelease\u001b[0m\u001b[1;33m(\u001b[0m\u001b[1;33m)\u001b[0m\u001b[1;33m\u001b[0m\u001b[1;33m\u001b[0m\u001b[0m\n",
      "\u001b[1;31mConnectionResetError\u001b[0m: [WinError 10054] An existing connection was forcibly closed by the remote host"
     ]
    }
   ],
   "source": [
    " while True:\n",
    "        data= conn.recv(4*1024)\n",
    "        array = np.frombuffer(data,np.uint8)\n",
    "        photo= cv2.imdecode(array,cv2.IMREAD_COLOR)\n",
    "        if (type(photo) is type(None)):\n",
    "            pass\n",
    "        else:\n",
    "            cv2.imshow(\"hello from server\", photo)\n",
    "            if(cv2.waitKey(10)==13):\n",
    "                break\n",
    "        ret,photo= cap.read()\n",
    "        photo_data = cv2.imencode('.jpg',photo)[1].tobytes()\n",
    "        conn.sendall(photo_data)\n",
    "cv2.destroyAllWindows()\n",
    "cap.release()\n",
    "os.system(\"cls\")\n",
    "        "
   ]
  },
  {
   "cell_type": "code",
   "execution_count": null,
   "id": "fef52dfa",
   "metadata": {},
   "outputs": [],
   "source": [
    "cap.release()"
   ]
  },
  {
   "cell_type": "code",
   "execution_count": null,
   "id": "20da9cbd",
   "metadata": {},
   "outputs": [],
   "source": []
  }
 ],
 "metadata": {
  "kernelspec": {
   "display_name": "Python 3",
   "language": "python",
   "name": "python3"
  },
  "language_info": {
   "codemirror_mode": {
    "name": "ipython",
    "version": 3
   },
   "file_extension": ".py",
   "mimetype": "text/x-python",
   "name": "python",
   "nbconvert_exporter": "python",
   "pygments_lexer": "ipython3",
   "version": "3.8.8"
  }
 },
 "nbformat": 4,
 "nbformat_minor": 5
}
